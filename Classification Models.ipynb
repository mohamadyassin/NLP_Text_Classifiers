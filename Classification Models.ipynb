{
 "cells": [
  {
   "cell_type": "code",
   "execution_count": null,
   "metadata": {},
   "outputs": [],
   "source": []
  },
  {
   "cell_type": "code",
   "execution_count": null,
   "metadata": {},
   "outputs": [],
   "source": []
  },
  {
   "cell_type": "code",
   "execution_count": 1,
   "metadata": {},
   "outputs": [],
   "source": [
    "# Read the texts\n",
    "import json\n",
    "with open('texts_2', 'r') as f:\n",
    "    texts = json.loads(f.read())\n",
    "\n",
    "# Read the labels\n",
    "import json\n",
    "with open('labels_2', 'r') as f:\n",
    "    labels = json.loads(f.read())\n",
    "\n",
    "# Read the vocab\n",
    "import json\n",
    "with open('vocab', 'r') as f:\n",
    "    vocab = json.loads(f.read())"
   ]
  },
  {
   "cell_type": "code",
   "execution_count": 2,
   "metadata": {},
   "outputs": [
    {
     "name": "stdout",
     "output_type": "stream",
     "text": [
      "Number of texts: 2125\n",
      "Number of labels: 2125\n",
      "Number of vocabs: 1030\n"
     ]
    }
   ],
   "source": [
    "# Print out the numbers\n",
    "print(\"Number of texts: {}\".format(len(texts)))\n",
    "print(\"Number of labels: {}\".format(len(labels)))\n",
    "print(\"Number of vocabs: {}\".format(len(vocab)))"
   ]
  },
  {
   "cell_type": "code",
   "execution_count": 35,
   "metadata": {},
   "outputs": [],
   "source": [
    "# General tfidf\n",
    "from sklearn.feature_extraction.text import TfidfVectorizer\n",
    "tfidf = TfidfVectorizer(sublinear_tf=True,\n",
    "                        norm=\"l2\",\n",
    "                        encoding='latin-1',\n",
    "                        ngram_range=(1, 2),\n",
    "                        vocabulary=vocab)"
   ]
  },
  {
   "cell_type": "code",
   "execution_count": 36,
   "metadata": {},
   "outputs": [
    {
     "data": {
      "text/plain": [
       "['tfidf_gr.joblib']"
      ]
     },
     "execution_count": 36,
     "metadata": {},
     "output_type": "execute_result"
    }
   ],
   "source": [
    "from joblib import dump, load\n",
    "dump(tfidf, 'tfidf_gr.joblib')"
   ]
  },
  {
   "cell_type": "code",
   "execution_count": 40,
   "metadata": {},
   "outputs": [],
   "source": [
    "# Create features out of raw texts\n",
    "import pandas as pd\n",
    "X = tfidf.fit_transform(texts)\n",
    "X = X.toarray()\n",
    "X = pd.DataFrame(X, columns=tfidf.get_feature_names())"
   ]
  },
  {
   "cell_type": "code",
   "execution_count": 213,
   "metadata": {},
   "outputs": [
    {
     "data": {
      "text/html": [
       "<div>\n",
       "<style scoped>\n",
       "    .dataframe tbody tr th:only-of-type {\n",
       "        vertical-align: middle;\n",
       "    }\n",
       "\n",
       "    .dataframe tbody tr th {\n",
       "        vertical-align: top;\n",
       "    }\n",
       "\n",
       "    .dataframe thead th {\n",
       "        text-align: right;\n",
       "    }\n",
       "</style>\n",
       "<table border=\"1\" class=\"dataframe\">\n",
       "  <thead>\n",
       "    <tr style=\"text-align: right;\">\n",
       "      <th></th>\n",
       "      <th>forth non</th>\n",
       "      <th>investment services</th>\n",
       "      <th>estate investment</th>\n",
       "      <th>real estate</th>\n",
       "      <th>rights reserved</th>\n",
       "      <th>forth service</th>\n",
       "      <th>reserved non</th>\n",
       "      <th>notice confidentiality</th>\n",
       "      <th>act id</th>\n",
       "      <th>disclaimer notice</th>\n",
       "      <th>endorsement disclaimer</th>\n",
       "      <th>notice real</th>\n",
       "      <th>services affiliated</th>\n",
       "      <th>offering memorandum</th>\n",
       "      <th>street confidentiality</th>\n",
       "      <th>...</th>\n",
       "      <th>2bdr</th>\n",
       "      <th>replacements</th>\n",
       "      <th>rents average</th>\n",
       "      <th>reserves replacements</th>\n",
       "      <th>overview income</th>\n",
       "      <th>scheduled</th>\n",
       "      <th>forma average</th>\n",
       "      <th>unit apartment</th>\n",
       "      <th>current avg</th>\n",
       "      <th>monthly potential</th>\n",
       "      <th>rental income</th>\n",
       "      <th>complex</th>\n",
       "      <th>prospective</th>\n",
       "      <th>costa</th>\n",
       "      <th>terms use</th>\n",
       "    </tr>\n",
       "  </thead>\n",
       "  <tbody>\n",
       "    <tr>\n",
       "      <th>0</th>\n",
       "      <td>0.0</td>\n",
       "      <td>0.000000</td>\n",
       "      <td>0.000000</td>\n",
       "      <td>0.000000</td>\n",
       "      <td>0.000000</td>\n",
       "      <td>0.0</td>\n",
       "      <td>0.000000</td>\n",
       "      <td>0.0</td>\n",
       "      <td>0.000000</td>\n",
       "      <td>0.000000</td>\n",
       "      <td>0.0</td>\n",
       "      <td>0.0</td>\n",
       "      <td>0.0</td>\n",
       "      <td>0.3011</td>\n",
       "      <td>0.0</td>\n",
       "      <td>...</td>\n",
       "      <td>0.0</td>\n",
       "      <td>0.0</td>\n",
       "      <td>0.0</td>\n",
       "      <td>0.0</td>\n",
       "      <td>0.0</td>\n",
       "      <td>0.000000</td>\n",
       "      <td>0.0</td>\n",
       "      <td>0.0</td>\n",
       "      <td>0.000000</td>\n",
       "      <td>0.000000</td>\n",
       "      <td>0.000000</td>\n",
       "      <td>0.0</td>\n",
       "      <td>0.000000</td>\n",
       "      <td>0.0</td>\n",
       "      <td>0.0</td>\n",
       "    </tr>\n",
       "    <tr>\n",
       "      <th>1</th>\n",
       "      <td>0.0</td>\n",
       "      <td>0.000000</td>\n",
       "      <td>0.000000</td>\n",
       "      <td>0.000000</td>\n",
       "      <td>0.000000</td>\n",
       "      <td>0.0</td>\n",
       "      <td>0.000000</td>\n",
       "      <td>0.0</td>\n",
       "      <td>0.000000</td>\n",
       "      <td>0.000000</td>\n",
       "      <td>0.0</td>\n",
       "      <td>0.0</td>\n",
       "      <td>0.0</td>\n",
       "      <td>0.0000</td>\n",
       "      <td>0.0</td>\n",
       "      <td>...</td>\n",
       "      <td>0.0</td>\n",
       "      <td>0.0</td>\n",
       "      <td>0.0</td>\n",
       "      <td>0.0</td>\n",
       "      <td>0.0</td>\n",
       "      <td>0.000000</td>\n",
       "      <td>0.0</td>\n",
       "      <td>0.0</td>\n",
       "      <td>0.000000</td>\n",
       "      <td>0.000000</td>\n",
       "      <td>0.000000</td>\n",
       "      <td>0.0</td>\n",
       "      <td>0.000000</td>\n",
       "      <td>0.0</td>\n",
       "      <td>0.0</td>\n",
       "    </tr>\n",
       "    <tr>\n",
       "      <th>2</th>\n",
       "      <td>0.0</td>\n",
       "      <td>0.000000</td>\n",
       "      <td>0.000000</td>\n",
       "      <td>0.000000</td>\n",
       "      <td>0.000000</td>\n",
       "      <td>0.0</td>\n",
       "      <td>0.000000</td>\n",
       "      <td>0.0</td>\n",
       "      <td>0.000000</td>\n",
       "      <td>0.000000</td>\n",
       "      <td>0.0</td>\n",
       "      <td>0.0</td>\n",
       "      <td>0.0</td>\n",
       "      <td>0.0000</td>\n",
       "      <td>0.0</td>\n",
       "      <td>...</td>\n",
       "      <td>0.0</td>\n",
       "      <td>0.0</td>\n",
       "      <td>0.0</td>\n",
       "      <td>0.0</td>\n",
       "      <td>0.0</td>\n",
       "      <td>0.000000</td>\n",
       "      <td>0.0</td>\n",
       "      <td>0.0</td>\n",
       "      <td>0.000000</td>\n",
       "      <td>0.000000</td>\n",
       "      <td>0.000000</td>\n",
       "      <td>0.0</td>\n",
       "      <td>0.000000</td>\n",
       "      <td>0.0</td>\n",
       "      <td>0.0</td>\n",
       "    </tr>\n",
       "    <tr>\n",
       "      <th>3</th>\n",
       "      <td>0.0</td>\n",
       "      <td>0.000000</td>\n",
       "      <td>0.000000</td>\n",
       "      <td>0.000000</td>\n",
       "      <td>0.000000</td>\n",
       "      <td>0.0</td>\n",
       "      <td>0.000000</td>\n",
       "      <td>0.0</td>\n",
       "      <td>0.000000</td>\n",
       "      <td>0.000000</td>\n",
       "      <td>0.0</td>\n",
       "      <td>0.0</td>\n",
       "      <td>0.0</td>\n",
       "      <td>0.0000</td>\n",
       "      <td>0.0</td>\n",
       "      <td>...</td>\n",
       "      <td>0.0</td>\n",
       "      <td>0.0</td>\n",
       "      <td>0.0</td>\n",
       "      <td>0.0</td>\n",
       "      <td>0.0</td>\n",
       "      <td>0.000000</td>\n",
       "      <td>0.0</td>\n",
       "      <td>0.0</td>\n",
       "      <td>0.000000</td>\n",
       "      <td>0.000000</td>\n",
       "      <td>0.000000</td>\n",
       "      <td>0.0</td>\n",
       "      <td>0.000000</td>\n",
       "      <td>0.0</td>\n",
       "      <td>0.0</td>\n",
       "    </tr>\n",
       "    <tr>\n",
       "      <th>4</th>\n",
       "      <td>0.0</td>\n",
       "      <td>0.050602</td>\n",
       "      <td>0.050163</td>\n",
       "      <td>0.074556</td>\n",
       "      <td>0.053543</td>\n",
       "      <td>0.0</td>\n",
       "      <td>0.000000</td>\n",
       "      <td>0.0</td>\n",
       "      <td>0.000000</td>\n",
       "      <td>0.000000</td>\n",
       "      <td>0.0</td>\n",
       "      <td>0.0</td>\n",
       "      <td>0.0</td>\n",
       "      <td>0.0000</td>\n",
       "      <td>0.0</td>\n",
       "      <td>...</td>\n",
       "      <td>0.0</td>\n",
       "      <td>0.0</td>\n",
       "      <td>0.0</td>\n",
       "      <td>0.0</td>\n",
       "      <td>0.0</td>\n",
       "      <td>0.087529</td>\n",
       "      <td>0.0</td>\n",
       "      <td>0.0</td>\n",
       "      <td>0.097886</td>\n",
       "      <td>0.097886</td>\n",
       "      <td>0.095366</td>\n",
       "      <td>0.0</td>\n",
       "      <td>0.000000</td>\n",
       "      <td>0.0</td>\n",
       "      <td>0.0</td>\n",
       "    </tr>\n",
       "    <tr>\n",
       "      <th>...</th>\n",
       "      <td>...</td>\n",
       "      <td>...</td>\n",
       "      <td>...</td>\n",
       "      <td>...</td>\n",
       "      <td>...</td>\n",
       "      <td>...</td>\n",
       "      <td>...</td>\n",
       "      <td>...</td>\n",
       "      <td>...</td>\n",
       "      <td>...</td>\n",
       "      <td>...</td>\n",
       "      <td>...</td>\n",
       "      <td>...</td>\n",
       "      <td>...</td>\n",
       "      <td>...</td>\n",
       "      <td>...</td>\n",
       "      <td>...</td>\n",
       "      <td>...</td>\n",
       "      <td>...</td>\n",
       "      <td>...</td>\n",
       "      <td>...</td>\n",
       "      <td>...</td>\n",
       "      <td>...</td>\n",
       "      <td>...</td>\n",
       "      <td>...</td>\n",
       "      <td>...</td>\n",
       "      <td>...</td>\n",
       "      <td>...</td>\n",
       "      <td>...</td>\n",
       "      <td>...</td>\n",
       "      <td>...</td>\n",
       "    </tr>\n",
       "    <tr>\n",
       "      <th>2120</th>\n",
       "      <td>0.0</td>\n",
       "      <td>0.000000</td>\n",
       "      <td>0.000000</td>\n",
       "      <td>0.000000</td>\n",
       "      <td>0.000000</td>\n",
       "      <td>0.0</td>\n",
       "      <td>0.000000</td>\n",
       "      <td>0.0</td>\n",
       "      <td>0.000000</td>\n",
       "      <td>0.000000</td>\n",
       "      <td>0.0</td>\n",
       "      <td>0.0</td>\n",
       "      <td>0.0</td>\n",
       "      <td>0.0000</td>\n",
       "      <td>0.0</td>\n",
       "      <td>...</td>\n",
       "      <td>0.0</td>\n",
       "      <td>0.0</td>\n",
       "      <td>0.0</td>\n",
       "      <td>0.0</td>\n",
       "      <td>0.0</td>\n",
       "      <td>0.000000</td>\n",
       "      <td>0.0</td>\n",
       "      <td>0.0</td>\n",
       "      <td>0.000000</td>\n",
       "      <td>0.000000</td>\n",
       "      <td>0.000000</td>\n",
       "      <td>0.0</td>\n",
       "      <td>0.214886</td>\n",
       "      <td>0.0</td>\n",
       "      <td>0.0</td>\n",
       "    </tr>\n",
       "    <tr>\n",
       "      <th>2121</th>\n",
       "      <td>0.0</td>\n",
       "      <td>0.082180</td>\n",
       "      <td>0.081467</td>\n",
       "      <td>0.071513</td>\n",
       "      <td>0.086957</td>\n",
       "      <td>0.0</td>\n",
       "      <td>0.000000</td>\n",
       "      <td>0.0</td>\n",
       "      <td>0.144916</td>\n",
       "      <td>0.157156</td>\n",
       "      <td>0.0</td>\n",
       "      <td>0.0</td>\n",
       "      <td>0.0</td>\n",
       "      <td>0.0000</td>\n",
       "      <td>0.0</td>\n",
       "      <td>...</td>\n",
       "      <td>0.0</td>\n",
       "      <td>0.0</td>\n",
       "      <td>0.0</td>\n",
       "      <td>0.0</td>\n",
       "      <td>0.0</td>\n",
       "      <td>0.000000</td>\n",
       "      <td>0.0</td>\n",
       "      <td>0.0</td>\n",
       "      <td>0.000000</td>\n",
       "      <td>0.000000</td>\n",
       "      <td>0.000000</td>\n",
       "      <td>0.0</td>\n",
       "      <td>0.112569</td>\n",
       "      <td>0.0</td>\n",
       "      <td>0.0</td>\n",
       "    </tr>\n",
       "    <tr>\n",
       "      <th>2122</th>\n",
       "      <td>0.0</td>\n",
       "      <td>0.000000</td>\n",
       "      <td>0.000000</td>\n",
       "      <td>0.000000</td>\n",
       "      <td>0.000000</td>\n",
       "      <td>0.0</td>\n",
       "      <td>0.000000</td>\n",
       "      <td>0.0</td>\n",
       "      <td>0.000000</td>\n",
       "      <td>0.000000</td>\n",
       "      <td>0.0</td>\n",
       "      <td>0.0</td>\n",
       "      <td>0.0</td>\n",
       "      <td>0.0000</td>\n",
       "      <td>0.0</td>\n",
       "      <td>...</td>\n",
       "      <td>0.0</td>\n",
       "      <td>0.0</td>\n",
       "      <td>0.0</td>\n",
       "      <td>0.0</td>\n",
       "      <td>0.0</td>\n",
       "      <td>0.000000</td>\n",
       "      <td>0.0</td>\n",
       "      <td>0.0</td>\n",
       "      <td>0.000000</td>\n",
       "      <td>0.000000</td>\n",
       "      <td>0.000000</td>\n",
       "      <td>0.0</td>\n",
       "      <td>0.214249</td>\n",
       "      <td>0.0</td>\n",
       "      <td>0.0</td>\n",
       "    </tr>\n",
       "    <tr>\n",
       "      <th>2123</th>\n",
       "      <td>0.0</td>\n",
       "      <td>0.000000</td>\n",
       "      <td>0.000000</td>\n",
       "      <td>0.000000</td>\n",
       "      <td>0.000000</td>\n",
       "      <td>0.0</td>\n",
       "      <td>0.000000</td>\n",
       "      <td>0.0</td>\n",
       "      <td>0.000000</td>\n",
       "      <td>0.000000</td>\n",
       "      <td>0.0</td>\n",
       "      <td>0.0</td>\n",
       "      <td>0.0</td>\n",
       "      <td>0.0000</td>\n",
       "      <td>0.0</td>\n",
       "      <td>...</td>\n",
       "      <td>0.0</td>\n",
       "      <td>0.0</td>\n",
       "      <td>0.0</td>\n",
       "      <td>0.0</td>\n",
       "      <td>0.0</td>\n",
       "      <td>0.000000</td>\n",
       "      <td>0.0</td>\n",
       "      <td>0.0</td>\n",
       "      <td>0.000000</td>\n",
       "      <td>0.000000</td>\n",
       "      <td>0.000000</td>\n",
       "      <td>0.0</td>\n",
       "      <td>0.075593</td>\n",
       "      <td>0.0</td>\n",
       "      <td>0.0</td>\n",
       "    </tr>\n",
       "    <tr>\n",
       "      <th>2124</th>\n",
       "      <td>0.0</td>\n",
       "      <td>0.078278</td>\n",
       "      <td>0.077598</td>\n",
       "      <td>0.068118</td>\n",
       "      <td>0.082828</td>\n",
       "      <td>0.0</td>\n",
       "      <td>0.152627</td>\n",
       "      <td>0.0</td>\n",
       "      <td>0.000000</td>\n",
       "      <td>0.000000</td>\n",
       "      <td>0.0</td>\n",
       "      <td>0.0</td>\n",
       "      <td>0.0</td>\n",
       "      <td>0.0000</td>\n",
       "      <td>0.0</td>\n",
       "      <td>...</td>\n",
       "      <td>0.0</td>\n",
       "      <td>0.0</td>\n",
       "      <td>0.0</td>\n",
       "      <td>0.0</td>\n",
       "      <td>0.0</td>\n",
       "      <td>0.000000</td>\n",
       "      <td>0.0</td>\n",
       "      <td>0.0</td>\n",
       "      <td>0.000000</td>\n",
       "      <td>0.000000</td>\n",
       "      <td>0.000000</td>\n",
       "      <td>0.0</td>\n",
       "      <td>0.181545</td>\n",
       "      <td>0.0</td>\n",
       "      <td>0.0</td>\n",
       "    </tr>\n",
       "  </tbody>\n",
       "</table>\n",
       "<p>2125 rows × 1030 columns</p>\n",
       "</div>"
      ],
      "text/plain": [
       "      forth non  investment services  estate investment  real estate  \\\n",
       "0           0.0             0.000000           0.000000     0.000000   \n",
       "1           0.0             0.000000           0.000000     0.000000   \n",
       "2           0.0             0.000000           0.000000     0.000000   \n",
       "3           0.0             0.000000           0.000000     0.000000   \n",
       "4           0.0             0.050602           0.050163     0.074556   \n",
       "...         ...                  ...                ...          ...   \n",
       "2120        0.0             0.000000           0.000000     0.000000   \n",
       "2121        0.0             0.082180           0.081467     0.071513   \n",
       "2122        0.0             0.000000           0.000000     0.000000   \n",
       "2123        0.0             0.000000           0.000000     0.000000   \n",
       "2124        0.0             0.078278           0.077598     0.068118   \n",
       "\n",
       "      rights reserved  forth service  reserved non  notice confidentiality  \\\n",
       "0            0.000000            0.0      0.000000                     0.0   \n",
       "1            0.000000            0.0      0.000000                     0.0   \n",
       "2            0.000000            0.0      0.000000                     0.0   \n",
       "3            0.000000            0.0      0.000000                     0.0   \n",
       "4            0.053543            0.0      0.000000                     0.0   \n",
       "...               ...            ...           ...                     ...   \n",
       "2120         0.000000            0.0      0.000000                     0.0   \n",
       "2121         0.086957            0.0      0.000000                     0.0   \n",
       "2122         0.000000            0.0      0.000000                     0.0   \n",
       "2123         0.000000            0.0      0.000000                     0.0   \n",
       "2124         0.082828            0.0      0.152627                     0.0   \n",
       "\n",
       "        act id  disclaimer notice  endorsement disclaimer  notice real  \\\n",
       "0     0.000000           0.000000                     0.0          0.0   \n",
       "1     0.000000           0.000000                     0.0          0.0   \n",
       "2     0.000000           0.000000                     0.0          0.0   \n",
       "3     0.000000           0.000000                     0.0          0.0   \n",
       "4     0.000000           0.000000                     0.0          0.0   \n",
       "...        ...                ...                     ...          ...   \n",
       "2120  0.000000           0.000000                     0.0          0.0   \n",
       "2121  0.144916           0.157156                     0.0          0.0   \n",
       "2122  0.000000           0.000000                     0.0          0.0   \n",
       "2123  0.000000           0.000000                     0.0          0.0   \n",
       "2124  0.000000           0.000000                     0.0          0.0   \n",
       "\n",
       "      services affiliated  offering memorandum  street confidentiality  ...  \\\n",
       "0                     0.0               0.3011                     0.0  ...   \n",
       "1                     0.0               0.0000                     0.0  ...   \n",
       "2                     0.0               0.0000                     0.0  ...   \n",
       "3                     0.0               0.0000                     0.0  ...   \n",
       "4                     0.0               0.0000                     0.0  ...   \n",
       "...                   ...                  ...                     ...  ...   \n",
       "2120                  0.0               0.0000                     0.0  ...   \n",
       "2121                  0.0               0.0000                     0.0  ...   \n",
       "2122                  0.0               0.0000                     0.0  ...   \n",
       "2123                  0.0               0.0000                     0.0  ...   \n",
       "2124                  0.0               0.0000                     0.0  ...   \n",
       "\n",
       "      2bdr  replacements  rents average  reserves replacements  \\\n",
       "0      0.0           0.0            0.0                    0.0   \n",
       "1      0.0           0.0            0.0                    0.0   \n",
       "2      0.0           0.0            0.0                    0.0   \n",
       "3      0.0           0.0            0.0                    0.0   \n",
       "4      0.0           0.0            0.0                    0.0   \n",
       "...    ...           ...            ...                    ...   \n",
       "2120   0.0           0.0            0.0                    0.0   \n",
       "2121   0.0           0.0            0.0                    0.0   \n",
       "2122   0.0           0.0            0.0                    0.0   \n",
       "2123   0.0           0.0            0.0                    0.0   \n",
       "2124   0.0           0.0            0.0                    0.0   \n",
       "\n",
       "      overview income  scheduled  forma average  unit apartment  current avg  \\\n",
       "0                 0.0   0.000000            0.0             0.0     0.000000   \n",
       "1                 0.0   0.000000            0.0             0.0     0.000000   \n",
       "2                 0.0   0.000000            0.0             0.0     0.000000   \n",
       "3                 0.0   0.000000            0.0             0.0     0.000000   \n",
       "4                 0.0   0.087529            0.0             0.0     0.097886   \n",
       "...               ...        ...            ...             ...          ...   \n",
       "2120              0.0   0.000000            0.0             0.0     0.000000   \n",
       "2121              0.0   0.000000            0.0             0.0     0.000000   \n",
       "2122              0.0   0.000000            0.0             0.0     0.000000   \n",
       "2123              0.0   0.000000            0.0             0.0     0.000000   \n",
       "2124              0.0   0.000000            0.0             0.0     0.000000   \n",
       "\n",
       "      monthly potential  rental income  complex  prospective  costa  terms use  \n",
       "0              0.000000       0.000000      0.0     0.000000    0.0        0.0  \n",
       "1              0.000000       0.000000      0.0     0.000000    0.0        0.0  \n",
       "2              0.000000       0.000000      0.0     0.000000    0.0        0.0  \n",
       "3              0.000000       0.000000      0.0     0.000000    0.0        0.0  \n",
       "4              0.097886       0.095366      0.0     0.000000    0.0        0.0  \n",
       "...                 ...            ...      ...          ...    ...        ...  \n",
       "2120           0.000000       0.000000      0.0     0.214886    0.0        0.0  \n",
       "2121           0.000000       0.000000      0.0     0.112569    0.0        0.0  \n",
       "2122           0.000000       0.000000      0.0     0.214249    0.0        0.0  \n",
       "2123           0.000000       0.000000      0.0     0.075593    0.0        0.0  \n",
       "2124           0.000000       0.000000      0.0     0.181545    0.0        0.0  \n",
       "\n",
       "[2125 rows x 1030 columns]"
      ]
     },
     "execution_count": 213,
     "metadata": {},
     "output_type": "execute_result"
    }
   ],
   "source": [
    "X"
   ]
  },
  {
   "cell_type": "code",
   "execution_count": 3,
   "metadata": {},
   "outputs": [],
   "source": [
    "# Create labels y\n",
    "y = labels"
   ]
  },
  {
   "cell_type": "code",
   "execution_count": 6,
   "metadata": {},
   "outputs": [
    {
     "name": "stdout",
     "output_type": "stream",
     "text": [
      "X shape: (2125, 1030)\n"
     ]
    }
   ],
   "source": [
    "print(\"X shape: {}\".format(X.shape))"
   ]
  },
  {
   "cell_type": "code",
   "execution_count": 41,
   "metadata": {},
   "outputs": [],
   "source": [
    "# Initialize random seed\n",
    "import numpy as np\n",
    "RANDOM_SEED = 123\n",
    "np.random.seed(RANDOM_SEED)\n",
    "from sklearn.model_selection import train_test_split\n",
    "\n",
    "# Split the data\n",
    "X_train, X_test, y_train, y_test = train_test_split(X,y, test_size=0.2,\n",
    "                                                    random_state=RANDOM_SEED,shuffle=True,\n",
    "                                                    stratify=y)"
   ]
  },
  {
   "cell_type": "code",
   "execution_count": 4,
   "metadata": {},
   "outputs": [],
   "source": [
    "# RF tfidf\n",
    "from sklearn.feature_extraction.text import TfidfVectorizer\n",
    "tfidf_rf = TfidfVectorizer(sublinear_tf=True,\n",
    "                        norm=None,\n",
    "                        smooth_idf=True,\n",
    "                        vocabulary=vocab)"
   ]
  },
  {
   "cell_type": "code",
   "execution_count": 34,
   "metadata": {},
   "outputs": [
    {
     "data": {
      "text/plain": [
       "['tfidf_rf.joblib']"
      ]
     },
     "execution_count": 34,
     "metadata": {},
     "output_type": "execute_result"
    }
   ],
   "source": [
    "from joblib import dump, load\n",
    "dump(tfidf_rf, 'tfidf_rf.joblib')"
   ]
  },
  {
   "cell_type": "code",
   "execution_count": 5,
   "metadata": {},
   "outputs": [],
   "source": [
    "# Create features out of raw texts \n",
    "import pandas as pd\n",
    "X_rf = tfidf_rf.fit_transform(texts)\n",
    "X_rf = X_rf.toarray()\n",
    "X_rf = pd.DataFrame(X_rf, columns=tfidf_rf.get_feature_names())"
   ]
  },
  {
   "cell_type": "code",
   "execution_count": 22,
   "metadata": {},
   "outputs": [],
   "source": [
    "# Initialize random seed\n",
    "import numpy as np\n",
    "RANDOM_SEED = 123\n",
    "np.random.seed(RANDOM_SEED)\n",
    "from sklearn.model_selection import train_test_split\n",
    "\n",
    "# Split the data\n",
    "X_train_rf, X_test_rf, y_train_rf, y_test_rf = train_test_split(X_rf,y, test_size=0.2,\n",
    "                                                    shuffle=True,\n",
    "                                                    stratify=y)"
   ]
  },
  {
   "cell_type": "markdown",
   "metadata": {},
   "source": [
    "## Logistic Regression Classifier"
   ]
  },
  {
   "cell_type": "code",
   "execution_count": 11,
   "metadata": {},
   "outputs": [],
   "source": [
    "from sklearn.linear_model import LogisticRegression\n",
    "# Instantiate a logistic regression moel\n",
    "lr = LogisticRegression()"
   ]
  },
  {
   "cell_type": "code",
   "execution_count": 12,
   "metadata": {},
   "outputs": [],
   "source": [
    "from sklearn.model_selection import RandomizedSearchCV\n",
    "# Define parameter distribution list\n",
    "param_dist = {\n",
    "    \"C\": [1]\n",
    "}\n",
    "# Initialize a random search classifier\n",
    "lr_cv = RandomizedSearchCV(lr, param_dist, cv=5)"
   ]
  },
  {
   "cell_type": "code",
   "execution_count": 13,
   "metadata": {},
   "outputs": [
    {
     "name": "stdout",
     "output_type": "stream",
     "text": [
      "CPU times: user 1.12 s, sys: 72.4 ms, total: 1.19 s\n",
      "Wall time: 703 ms\n"
     ]
    },
    {
     "data": {
      "text/plain": [
       "RandomizedSearchCV(cv=5, estimator=LogisticRegression(),\n",
       "                   param_distributions={'C': [1]})"
      ]
     },
     "execution_count": 13,
     "metadata": {},
     "output_type": "execute_result"
    }
   ],
   "source": [
    "%%time\n",
    "import warnings; warnings.simplefilter('ignore')\n",
    "\n",
    "# Fit the model \n",
    "lr_cv.fit(X_train,y_train)"
   ]
  },
  {
   "cell_type": "code",
   "execution_count": 14,
   "metadata": {},
   "outputs": [],
   "source": [
    "# Define best estimator\n",
    "lr_clf = lr_cv.best_estimator_"
   ]
  },
  {
   "cell_type": "code",
   "execution_count": 15,
   "metadata": {},
   "outputs": [
    {
     "data": {
      "text/plain": [
       "{'mean_fit_time': array([0.0977006]),\n",
       " 'std_fit_time': array([0.02685192]),\n",
       " 'mean_score_time': array([0.01565881]),\n",
       " 'std_score_time': array([0.00326]),\n",
       " 'param_C': masked_array(data=[1],\n",
       "              mask=[False],\n",
       "        fill_value='?',\n",
       "             dtype=object),\n",
       " 'params': [{'C': 1}],\n",
       " 'split0_test_score': array([0.99411765]),\n",
       " 'split1_test_score': array([0.98529412]),\n",
       " 'split2_test_score': array([0.98823529]),\n",
       " 'split3_test_score': array([0.98529412]),\n",
       " 'split4_test_score': array([0.99117647]),\n",
       " 'mean_test_score': array([0.98882353]),\n",
       " 'std_test_score': array([0.00342997]),\n",
       " 'rank_test_score': array([1], dtype=int32)}"
      ]
     },
     "execution_count": 15,
     "metadata": {},
     "output_type": "execute_result"
    }
   ],
   "source": [
    "# Print best cv results\n",
    "lr_cv.cv_results_"
   ]
  },
  {
   "cell_type": "code",
   "execution_count": 108,
   "metadata": {},
   "outputs": [],
   "source": [
    "# Define predicted labels\n",
    "y_pred_lr = lr_clf.predict(X_test)\n",
    "y_pred_lr_train = lr_clf.predict(X_train)"
   ]
  },
  {
   "cell_type": "code",
   "execution_count": 17,
   "metadata": {},
   "outputs": [
    {
     "name": "stdout",
     "output_type": "stream",
     "text": [
      "Accuracy on test data: 0.9882\n",
      "Accuracy on training data: 0.9918\n"
     ]
    }
   ],
   "source": [
    "# Print out scores\n",
    "print('Accuracy on test data: {:.4f}'.format(lr_clf.score(X_test,y_test)))\n",
    "print('Accuracy on training data: {:.4f}'.format(lr_clf.score(X_train,y_train)))"
   ]
  },
  {
   "cell_type": "code",
   "execution_count": 18,
   "metadata": {},
   "outputs": [
    {
     "name": "stdout",
     "output_type": "stream",
     "text": [
      "0.9882352941176471\n",
      "[[389   0]\n",
      " [  5  31]]\n"
     ]
    }
   ],
   "source": [
    "from sklearn.metrics import accuracy_score, confusion_matrix\n",
    "\n",
    "# Print out accuracy and cofusion matrix\n",
    "print(accuracy_score(y_test,y_pred_lr))\n",
    "print(confusion_matrix(y_test,y_pred_lr))"
   ]
  },
  {
   "cell_type": "code",
   "execution_count": 116,
   "metadata": {},
   "outputs": [
    {
     "data": {
      "image/png": "[encoded data removed]",
      "text/plain": [
       "<Figure size 864x576 with 2 Axes>"
      ]
     },
     "metadata": {
      "needs_background": "light"
     },
     "output_type": "display_data"
    }
   ],
   "source": [
    "import matplotlib.pyplot as plt\n",
    "from sklearn.metrics import plot_confusion_matrix\n",
    "from pylab import rcParams\n",
    "\n",
    "# Plot confusion matrix\n",
    "rcParams['figure.figsize'] = 12, 8\n",
    "plot_confusion_matrix(lr_clf, X_test, y_test, cmap = plt.cm.Blues)\n",
    "plt.rc('ytick', labelsize=10, color='#39508F')\n",
    "plt.rc('xtick', labelsize=5)\n",
    "plt.xlabel('Predicted label', color='#39508F', size=15)\n",
    "plt.ylabel('True label', color='#39508F', size=15)\n",
    "plt.title('Testing Accuracy = 98.8%', fontsize=20, fontweight='bold', color='#0A6E70')\n",
    "plt.show()"
   ]
  },
  {
   "cell_type": "code",
   "execution_count": 117,
   "metadata": {},
   "outputs": [
    {
     "data": {
      "image/png": "[encoded data removed]",
      "text/plain": [
       "<Figure size 864x576 with 2 Axes>"
      ]
     },
     "metadata": {
      "needs_background": "light"
     },
     "output_type": "display_data"
    }
   ],
   "source": [
    "import matplotlib.pyplot as plt\n",
    "from sklearn.metrics import plot_confusion_matrix\n",
    "from pylab import rcParams\n",
    "\n",
    "\n",
    "\n",
    "# Plot confusion matrix\n",
    "rcParams['figure.figsize'] = 12, 8\n",
    "plot_confusion_matrix(lr_clf, X_train, y_train, cmap = plt.cm.Blues)\n",
    "plt.rc('ytick', labelsize=10, color='#39508F')\n",
    "plt.rc('xtick', labelsize=5)\n",
    "plt.xlabel('Predicted label', color='#39508F', size=15)\n",
    "plt.ylabel('True label', color='#39508F', size=15)\n",
    "plt.title('Training Accuracy = 99.2%', fontsize=20, fontweight='bold', color='#0A6E70')\n",
    "plt.show()"
   ]
  },
  {
   "cell_type": "markdown",
   "metadata": {},
   "source": [
    "## Support Vector Machine Classifier"
   ]
  },
  {
   "cell_type": "code",
   "execution_count": 120,
   "metadata": {},
   "outputs": [],
   "source": [
    "from sklearn.svm import SVC\n",
    "\n",
    "# Instantiate svm\n",
    "svm = SVC()"
   ]
  },
  {
   "cell_type": "code",
   "execution_count": 135,
   "metadata": {},
   "outputs": [],
   "source": [
    "from sklearn.model_selection import RandomizedSearchCV\n",
    "\n",
    "# Define parameter distribution list\n",
    "param_dist = {\n",
    "    \"C\": [1000]\n",
    "}\n",
    "\n",
    "# Initialize a random search classifier\n",
    "svm_cv = RandomizedSearchCV(svm, param_dist, cv=5)"
   ]
  },
  {
   "cell_type": "code",
   "execution_count": 136,
   "metadata": {},
   "outputs": [
    {
     "data": {
      "text/plain": [
       "RandomizedSearchCV(cv=5, estimator=SVC(), param_distributions={'C': [1000]})"
      ]
     },
     "execution_count": 136,
     "metadata": {},
     "output_type": "execute_result"
    }
   ],
   "source": [
    "# Fit the model\n",
    "svm_cv.fit(X_train,y_train)"
   ]
  },
  {
   "cell_type": "code",
   "execution_count": 137,
   "metadata": {},
   "outputs": [],
   "source": [
    "# Define best estimator\n",
    "svm_clf = svm_cv.best_estimator_"
   ]
  },
  {
   "cell_type": "code",
   "execution_count": 138,
   "metadata": {},
   "outputs": [
    {
     "data": {
      "text/plain": [
       "{'mean_fit_time': array([0.57297955]),\n",
       " 'std_fit_time': array([0.03600422]),\n",
       " 'mean_score_time': array([0.12747173]),\n",
       " 'std_score_time': array([0.00921815]),\n",
       " 'param_C': masked_array(data=[1000],\n",
       "              mask=[False],\n",
       "        fill_value='?',\n",
       "             dtype=object),\n",
       " 'params': [{'C': 1000}],\n",
       " 'split0_test_score': array([0.99411765]),\n",
       " 'split1_test_score': array([0.99411765]),\n",
       " 'split2_test_score': array([0.99117647]),\n",
       " 'split3_test_score': array([0.99411765]),\n",
       " 'split4_test_score': array([0.99411765]),\n",
       " 'mean_test_score': array([0.99352941]),\n",
       " 'std_test_score': array([0.00117647]),\n",
       " 'rank_test_score': array([1], dtype=int32)}"
      ]
     },
     "execution_count": 138,
     "metadata": {},
     "output_type": "execute_result"
    }
   ],
   "source": [
    "# Print out best results\n",
    "svm_cv.cv_results_"
   ]
  },
  {
   "cell_type": "code",
   "execution_count": 142,
   "metadata": {},
   "outputs": [],
   "source": [
    "# Define predicted labels\n",
    "y_pred_svm = svm_clf.predict(X_test)\n",
    "y_pred_svm_train = svm_clf.predict(X_train)"
   ]
  },
  {
   "cell_type": "code",
   "execution_count": 140,
   "metadata": {},
   "outputs": [
    {
     "name": "stdout",
     "output_type": "stream",
     "text": [
      "Accuracy on test data: 0.9953\n",
      "Accuracy on training data: 1.0000\n"
     ]
    }
   ],
   "source": [
    "# Print out scores\n",
    "print('Accuracy on test data: {:.4f}'.format(svm_clf.score(X_test,y_test)))\n",
    "print('Accuracy on training data: {:.4f}'.format(svm_clf.score(X_train,y_train)))"
   ]
  },
  {
   "cell_type": "code",
   "execution_count": 144,
   "metadata": {},
   "outputs": [
    {
     "name": "stdout",
     "output_type": "stream",
     "text": [
      "0.9952941176470588\n",
      "[[388   1]\n",
      " [  1  35]]\n"
     ]
    }
   ],
   "source": [
    "from sklearn.metrics import accuracy_score, confusion_matrix\n",
    "\n",
    "# Print out accuracy and cofusion matrix -testing data\n",
    "print(accuracy_score(y_test,y_pred_svm))\n",
    "print(confusion_matrix(y_test,y_pred_svm))"
   ]
  },
  {
   "cell_type": "code",
   "execution_count": 145,
   "metadata": {},
   "outputs": [
    {
     "name": "stdout",
     "output_type": "stream",
     "text": [
      "1.0\n",
      "[[1557    0]\n",
      " [   0  143]]\n"
     ]
    }
   ],
   "source": [
    "# Print out accuracy and cofusion matrix -training data\n",
    "print(accuracy_score(y_train,y_pred_svm_train))\n",
    "print(confusion_matrix(y_train,y_pred_svm_train))"
   ]
  },
  {
   "cell_type": "code",
   "execution_count": 177,
   "metadata": {},
   "outputs": [
    {
     "data": {
      "image/png": "[encoded data removed]",
      "text/plain": [
       "<Figure size 864x576 with 2 Axes>"
      ]
     },
     "metadata": {
      "needs_background": "light"
     },
     "output_type": "display_data"
    }
   ],
   "source": [
    "import matplotlib.pyplot as plt\n",
    "from sklearn.metrics import plot_confusion_matrix\n",
    "from pylab import rcParams\n",
    "\n",
    "# Plot confusion matrix\n",
    "rcParams['figure.figsize'] = 12, 8\n",
    "plot_confusion_matrix(svm_clf, X_train, y_train, cmap = plt.cm.Blues)\n",
    "plt.rc('ytick', labelsize=10, color='#39508F')\n",
    "plt.rc('xtick', labelsize=5)\n",
    "plt.xlabel('Predicted label', color='#39508F', size=15)\n",
    "plt.ylabel('True label', color='#39508F', size=15)\n",
    "plt.title('Training Accuracy = 100%', fontsize=20, fontweight='bold', color='#0A6E70')\n",
    "plt.show()"
   ]
  },
  {
   "cell_type": "code",
   "execution_count": 214,
   "metadata": {},
   "outputs": [
    {
     "data": {
      "image/png": "[encoded data removed]",
      "text/plain": [
       "<Figure size 864x576 with 2 Axes>"
      ]
     },
     "metadata": {},
     "output_type": "display_data"
    }
   ],
   "source": [
    "import matplotlib.pyplot as plt\n",
    "from sklearn.metrics import plot_confusion_matrix\n",
    "from pylab import rcParams\n",
    "\n",
    "# Plot confusion matrix\n",
    "rcParams['figure.figsize'] = 12, 8\n",
    "plot_confusion_matrix(svm_clf, X_test, y_test, cmap = plt.cm.Blues)\n",
    "plt.rc('ytick', labelsize=10, color='#39508F')\n",
    "plt.rc('xtick', labelsize=5)\n",
    "plt.xlabel('Predicted label', color='#39508F', size=15)\n",
    "plt.ylabel('True label', color='#39508F', size=15)\n",
    "plt.title('Testing Accuracy = 99.5%', fontsize=20, fontweight='bold', color='#0A6E70')\n",
    "plt.show()"
   ]
  },
  {
   "cell_type": "markdown",
   "metadata": {},
   "source": [
    "## Random Forest Classifier"
   ]
  },
  {
   "cell_type": "code",
   "execution_count": 23,
   "metadata": {},
   "outputs": [],
   "source": [
    "from sklearn.ensemble import RandomForestClassifier\n",
    "\n",
    "# Instantiate a random forest classifier\n",
    "rf = RandomForestClassifier(verbose=0)"
   ]
  },
  {
   "cell_type": "code",
   "execution_count": 24,
   "metadata": {},
   "outputs": [],
   "source": [
    "from sklearn.model_selection import RandomizedSearchCV\n",
    "from random import randint\n",
    "\n",
    "# Define parameter distribution \n",
    "param_dist = {\"max_depth\": [randint(4, 10)],\n",
    "              \"max_features\": [randint(6, 15)],\n",
    "              \"n_estimators\": [randint(200, 230)]}\n",
    "\n",
    "# Initialize a random search classifier\n",
    "rf_cv = RandomizedSearchCV(rf,\n",
    "                                   random_state=None,\n",
    "                                   param_distributions=param_dist,\n",
    "                                   n_iter=50,\n",
    "                                   cv=5,\n",
    "                                   verbose=0)"
   ]
  },
  {
   "cell_type": "code",
   "execution_count": 25,
   "metadata": {},
   "outputs": [
    {
     "name": "stderr",
     "output_type": "stream",
     "text": [
      "/Users/Mohamad/opt/anaconda3/lib/python3.7/site-packages/sklearn/model_selection/_search.py:282: UserWarning: The total space of parameters 1 is smaller than n_iter=50. Running 1 iterations. For exhaustive searches, use GridSearchCV.\n",
      "  % (grid_size, self.n_iter, grid_size), UserWarning)\n"
     ]
    },
    {
     "data": {
      "text/plain": [
       "RandomizedSearchCV(cv=5, estimator=RandomForestClassifier(), n_iter=50,\n",
       "                   param_distributions={'max_depth': [9], 'max_features': [12],\n",
       "                                        'n_estimators': [206]})"
      ]
     },
     "execution_count": 25,
     "metadata": {},
     "output_type": "execute_result"
    }
   ],
   "source": [
    "# Fit the model\n",
    "rf_cv.fit(X_train_rf,y_train_rf)"
   ]
  },
  {
   "cell_type": "code",
   "execution_count": 26,
   "metadata": {},
   "outputs": [],
   "source": [
    "# Define best estimator\n",
    "rf_clf = rf_cv.best_estimator_"
   ]
  },
  {
   "cell_type": "code",
   "execution_count": 27,
   "metadata": {},
   "outputs": [
    {
     "data": {
      "text/plain": [
       "RandomForestClassifier(max_depth=9, max_features=12, n_estimators=206)"
      ]
     },
     "execution_count": 27,
     "metadata": {},
     "output_type": "execute_result"
    }
   ],
   "source": [
    "rf_clf"
   ]
  },
  {
   "cell_type": "code",
   "execution_count": 33,
   "metadata": {},
   "outputs": [
    {
     "data": {
      "text/plain": [
       "['rf_clf.joblib']"
      ]
     },
     "execution_count": 33,
     "metadata": {},
     "output_type": "execute_result"
    }
   ],
   "source": [
    "from joblib import dump, load\n",
    "dump(rf_clf, 'rf_clf.joblib')"
   ]
  },
  {
   "cell_type": "code",
   "execution_count": null,
   "metadata": {},
   "outputs": [],
   "source": [
    "clf = load('rf_clf.joblib') "
   ]
  },
  {
   "cell_type": "code",
   "execution_count": 28,
   "metadata": {},
   "outputs": [
    {
     "data": {
      "text/plain": [
       "{'mean_fit_time': array([0.91026082]),\n",
       " 'std_fit_time': array([0.10805604]),\n",
       " 'mean_score_time': array([0.07349205]),\n",
       " 'std_score_time': array([0.0201559]),\n",
       " 'param_n_estimators': masked_array(data=[206],\n",
       "              mask=[False],\n",
       "        fill_value='?',\n",
       "             dtype=object),\n",
       " 'param_max_features': masked_array(data=[12],\n",
       "              mask=[False],\n",
       "        fill_value='?',\n",
       "             dtype=object),\n",
       " 'param_max_depth': masked_array(data=[9],\n",
       "              mask=[False],\n",
       "        fill_value='?',\n",
       "             dtype=object),\n",
       " 'params': [{'n_estimators': 206, 'max_features': 12, 'max_depth': 9}],\n",
       " 'split0_test_score': array([0.99117647]),\n",
       " 'split1_test_score': array([0.98823529]),\n",
       " 'split2_test_score': array([0.98823529]),\n",
       " 'split3_test_score': array([0.98529412]),\n",
       " 'split4_test_score': array([0.99117647]),\n",
       " 'mean_test_score': array([0.98882353]),\n",
       " 'std_test_score': array([0.00220097]),\n",
       " 'rank_test_score': array([1], dtype=int32)}"
      ]
     },
     "execution_count": 28,
     "metadata": {},
     "output_type": "execute_result"
    }
   ],
   "source": [
    "# Print out best results\n",
    "rf_cv.cv_results_"
   ]
  },
  {
   "cell_type": "code",
   "execution_count": 29,
   "metadata": {},
   "outputs": [],
   "source": [
    "# Define predicted labels\n",
    "y_pred_rf = rf_clf.predict(X_test_rf)\n",
    "y_pred_rf_train = rf_clf.predict(X_train_rf)"
   ]
  },
  {
   "cell_type": "code",
   "execution_count": 30,
   "metadata": {},
   "outputs": [
    {
     "name": "stdout",
     "output_type": "stream",
     "text": [
      "Accuracy on test data: 0.9929\n",
      "Accuracy on training data: 0.9965\n"
     ]
    }
   ],
   "source": [
    "# Print out scores\n",
    "print('Accuracy on test data: {:.4f}'.format(rf_clf.score(X_test_rf,y_test_rf)))\n",
    "print('Accuracy on training data: {:.4f}'.format(rf_clf.score(X_train_rf,y_train_rf)))"
   ]
  },
  {
   "cell_type": "code",
   "execution_count": 31,
   "metadata": {},
   "outputs": [
    {
     "name": "stdout",
     "output_type": "stream",
     "text": [
      "0.9929411764705882\n",
      "[[388   1]\n",
      " [  2  34]]\n"
     ]
    }
   ],
   "source": [
    "from sklearn.metrics import accuracy_score, confusion_matrix\n",
    "\n",
    "# Print out accuracy and cofusion matrix -testing data\n",
    "print(accuracy_score(y_test_rf,y_pred_rf))\n",
    "print(confusion_matrix(y_test_rf,y_pred_rf))"
   ]
  },
  {
   "cell_type": "code",
   "execution_count": 32,
   "metadata": {},
   "outputs": [
    {
     "name": "stdout",
     "output_type": "stream",
     "text": [
      "0.9964705882352941\n",
      "[[1557    0]\n",
      " [   6  137]]\n"
     ]
    }
   ],
   "source": [
    "# Print out accuracy and cofusion matrix -training data\n",
    "print(accuracy_score(y_train_rf,y_pred_rf_train))\n",
    "print(confusion_matrix(y_train_rf,y_pred_rf_train))"
   ]
  },
  {
   "cell_type": "code",
   "execution_count": 257,
   "metadata": {},
   "outputs": [
    {
     "data": {
      "image/png": "[encoded data removed]",
      "text/plain": [
       "<Figure size 864x576 with 2 Axes>"
      ]
     },
     "metadata": {},
     "output_type": "display_data"
    }
   ],
   "source": [
    "# Plot confusion matrix\n",
    "rcParams['figure.figsize'] = 12, 8\n",
    "plot_confusion_matrix(rf_clf, X_test_rf, y_test_rf, cmap = plt.cm.Blues)\n",
    "plt.rc('ytick', labelsize=10, color='#39508F')\n",
    "plt.rc('xtick', labelsize=5)\n",
    "plt.xlabel('Predicted label', color='#39508F', size=20, fontweight='bold')\n",
    "plt.ylabel('True label', color='#39508F', size=20, fontweight='bold')\n",
    "plt.xticks(np.arange(2), [\"Informational\", \"Disclaimer\"],size=15, color='#39508F' )\n",
    "plt.yticks(np.arange(2), [\"Informational\", \"Disclaimer\"],size=15, rotation=90 )\n",
    "plt.title('Testing Accuracy = 99.5%', fontsize=20, fontweight='bold', color='#0A6E70')\n",
    "plt.show()"
   ]
  },
  {
   "cell_type": "code",
   "execution_count": 237,
   "metadata": {},
   "outputs": [
    {
     "data": {
      "image/png": "[encoded data removed]",
      "text/plain": [
       "<Figure size 864x576 with 2 Axes>"
      ]
     },
     "metadata": {},
     "output_type": "display_data"
    }
   ],
   "source": [
    "# Plot confusion matrix\n",
    "rcParams['figure.figsize'] = 12, 8\n",
    "plot_confusion_matrix(rf_clf, X_train_rf, y_train_rf, cmap = plt.cm.Blues)\n",
    "plt.rc('ytick', labelsize=10, color='#39508F')\n",
    "plt.rc('xtick', labelsize=5)\n",
    "plt.xlabel('Predicted label', color='#39508F', size=15)\n",
    "plt.ylabel('True label', color='#39508F', size=15)\n",
    "plt.title('Training Accuracy = 100%', fontsize=20, fontweight='bold', color='#0A6E70')\n",
    "plt.show()"
   ]
  },
  {
   "cell_type": "code",
   "execution_count": 238,
   "metadata": {},
   "outputs": [],
   "source": [
    "# Extract feature importances\n",
    "clf = rf_clf\n",
    "features = tfidf_rf.get_feature_names()\n",
    "feature_list = sorted(zip(map(lambda x: round(x, 4),\n",
    "                      clf.feature_importances_),\n",
    "                      features),\n",
    "                      reverse=True)"
   ]
  },
  {
   "cell_type": "code",
   "execution_count": 239,
   "metadata": {},
   "outputs": [],
   "source": [
    "import numpy as np\n",
    "\n",
    "# Extract top 20 features\n",
    "display_features = 20\n",
    "occ = np.array(list(zip(*feature_list))[0])[:display_features]\n",
    "feature_names = list(list(zip(*feature_list))[1])[:display_features]"
   ]
  },
  {
   "cell_type": "code",
   "execution_count": 240,
   "metadata": {},
   "outputs": [],
   "source": [
    "from sklearn.metrics import accuracy_score\n",
    "from sklearn.metrics import f1_score\n",
    "yhat = clf.predict(X_test)\n",
    "f1 = f1_score(y_test, yhat, average= 'weighted')\n",
    "accuracy = accuracy_score(y_test, yhat)"
   ]
  },
  {
   "cell_type": "code",
   "execution_count": 259,
   "metadata": {},
   "outputs": [
    {
     "data": {
      "image/png": "[encoded data removed]",
      "text/plain": [
       "<Figure size 864x576 with 1 Axes>"
      ]
     },
     "metadata": {},
     "output_type": "display_data"
    }
   ],
   "source": [
    "import matplotlib.pyplot as plt\n",
    "from pylab import rcParams\n",
    "\n",
    "# Plot feature importances\n",
    "plt.style.use('seaborn-ticks')\n",
    "plt.barh(feature_names, occ, orientation = 'horizontal', linewidth=1.2, \n",
    "         edgecolor='black', color='#39508F')\n",
    "plt.title(\"Word Usage\", fontsize=25, fontweight='bold', color=\"#0A6E70\")\n",
    "plt.rc('ytick', labelsize=20, color='blue')\n",
    "plt.rc('xtick', labelsize=15)\n",
    "rcParams['figure.figsize'] = 12, 8\n",
    "plt.tick_params(labelcolor='#0A6E70')\n",
    "plt.gca().invert_yaxis()\n",
    "plt.show()"
   ]
  },
  {
   "cell_type": "markdown",
   "metadata": {},
   "source": [
    "## Gradient Boosting Classifier"
   ]
  },
  {
   "cell_type": "code",
   "execution_count": 37,
   "metadata": {},
   "outputs": [],
   "source": [
    "from sklearn.ensemble import GradientBoostingClassifier\n",
    "\n",
    "# Instantiate sgbt\n",
    "sgb = GradientBoostingClassifier()"
   ]
  },
  {
   "cell_type": "code",
   "execution_count": 38,
   "metadata": {},
   "outputs": [],
   "source": [
    "from sklearn.model_selection import RandomizedSearchCV\n",
    "from random import random\n",
    "\n",
    "# Define parameter distribution\n",
    "param_dist = {\"max_depth\": [randint(4, 6)],\n",
    "              \"max_features\": [randint(6, 8)],\n",
    "              \"n_estimators\": [randint(200, 225)],\n",
    "             \"subsample\": [0.4],\n",
    "             \"max_features\": [0.3]}\n",
    "\n",
    "# Initialize a random search classifier\n",
    "sgb_cv = RandomizedSearchCV(sgb,\n",
    "                                   random_state=None,\n",
    "                                   param_distributions=param_dist,\n",
    "                                   n_iter=20,\n",
    "                                   cv=5,\n",
    "                                   verbose=0)"
   ]
  },
  {
   "cell_type": "code",
   "execution_count": 42,
   "metadata": {},
   "outputs": [
    {
     "name": "stderr",
     "output_type": "stream",
     "text": [
      "/Users/Mohamad/opt/anaconda3/lib/python3.7/site-packages/sklearn/model_selection/_search.py:282: UserWarning: The total space of parameters 1 is smaller than n_iter=20. Running 1 iterations. For exhaustive searches, use GridSearchCV.\n",
      "  % (grid_size, self.n_iter, grid_size), UserWarning)\n"
     ]
    },
    {
     "name": "stdout",
     "output_type": "stream",
     "text": [
      "CPU times: user 12.8 s, sys: 133 ms, total: 13 s\n",
      "Wall time: 13.8 s\n"
     ]
    },
    {
     "data": {
      "text/plain": [
       "RandomizedSearchCV(cv=5, estimator=GradientBoostingClassifier(), n_iter=20,\n",
       "                   param_distributions={'max_depth': [4], 'max_features': [0.3],\n",
       "                                        'n_estimators': [222],\n",
       "                                        'subsample': [0.4]})"
      ]
     },
     "execution_count": 42,
     "metadata": {},
     "output_type": "execute_result"
    }
   ],
   "source": [
    "%%time\n",
    "# Fit to training set\n",
    "sgb_cv.fit(X_train, y_train)"
   ]
  },
  {
   "cell_type": "code",
   "execution_count": 43,
   "metadata": {},
   "outputs": [],
   "source": [
    "# Define best estimator\n",
    "sgb_clf = sgb_cv.best_estimator_"
   ]
  },
  {
   "cell_type": "code",
   "execution_count": 44,
   "metadata": {},
   "outputs": [
    {
     "data": {
      "text/plain": [
       "GradientBoostingClassifier(max_depth=4, max_features=0.3, n_estimators=222,\n",
       "                           subsample=0.4)"
      ]
     },
     "execution_count": 44,
     "metadata": {},
     "output_type": "execute_result"
    }
   ],
   "source": [
    "sgb_clf"
   ]
  },
  {
   "cell_type": "code",
   "execution_count": 50,
   "metadata": {},
   "outputs": [
    {
     "data": {
      "text/plain": [
       "['sgb_clf.joblib']"
      ]
     },
     "execution_count": 50,
     "metadata": {},
     "output_type": "execute_result"
    }
   ],
   "source": [
    "from joblib import dump, load\n",
    "dump(sgb_clf, 'sgb_clf.joblib')"
   ]
  },
  {
   "cell_type": "code",
   "execution_count": 45,
   "metadata": {},
   "outputs": [
    {
     "data": {
      "text/plain": [
       "{'mean_fit_time': array([2.23478055]),\n",
       " 'std_fit_time': array([0.3433481]),\n",
       " 'mean_score_time': array([0.01766658]),\n",
       " 'std_score_time': array([0.00239983]),\n",
       " 'param_subsample': masked_array(data=[0.4],\n",
       "              mask=[False],\n",
       "        fill_value='?',\n",
       "             dtype=object),\n",
       " 'param_n_estimators': masked_array(data=[222],\n",
       "              mask=[False],\n",
       "        fill_value='?',\n",
       "             dtype=object),\n",
       " 'param_max_features': masked_array(data=[0.3],\n",
       "              mask=[False],\n",
       "        fill_value='?',\n",
       "             dtype=object),\n",
       " 'param_max_depth': masked_array(data=[4],\n",
       "              mask=[False],\n",
       "        fill_value='?',\n",
       "             dtype=object),\n",
       " 'params': [{'subsample': 0.4,\n",
       "   'n_estimators': 222,\n",
       "   'max_features': 0.3,\n",
       "   'max_depth': 4}],\n",
       " 'split0_test_score': array([0.98823529]),\n",
       " 'split1_test_score': array([0.99117647]),\n",
       " 'split2_test_score': array([0.99411765]),\n",
       " 'split3_test_score': array([0.99705882]),\n",
       " 'split4_test_score': array([0.99411765]),\n",
       " 'mean_test_score': array([0.99294118]),\n",
       " 'std_test_score': array([0.00299942]),\n",
       " 'rank_test_score': array([1], dtype=int32)}"
      ]
     },
     "execution_count": 45,
     "metadata": {},
     "output_type": "execute_result"
    }
   ],
   "source": [
    "# Print out best results\n",
    "sgb_cv.cv_results_"
   ]
  },
  {
   "cell_type": "code",
   "execution_count": 46,
   "metadata": {},
   "outputs": [],
   "source": [
    "# Define predicted labels\n",
    "y_pred_sgb = sgb_clf.predict(X_test)\n",
    "y_pred_train = sgb_clf.predict(X_train)"
   ]
  },
  {
   "cell_type": "code",
   "execution_count": 47,
   "metadata": {},
   "outputs": [
    {
     "name": "stdout",
     "output_type": "stream",
     "text": [
      "Accuracy on test data: 0.9953\n",
      "Accuracy on training data: 1.0000\n"
     ]
    }
   ],
   "source": [
    "# Print out scores\n",
    "print('Accuracy on test data: {:.4f}'.format(sgb_clf.score(X_test,y_test)))\n",
    "print('Accuracy on training data: {:.4f}'.format(sgb_clf.score(X_train,y_train)))"
   ]
  },
  {
   "cell_type": "code",
   "execution_count": 48,
   "metadata": {},
   "outputs": [
    {
     "name": "stdout",
     "output_type": "stream",
     "text": [
      "0.9952941176470588\n",
      "[[388   1]\n",
      " [  1  35]]\n"
     ]
    }
   ],
   "source": [
    "from sklearn.metrics import accuracy_score, confusion_matrix\n",
    "\n",
    "# Print out accuracy and cofusion matrix\n",
    "print(accuracy_score(y_test,y_pred_sgb))\n",
    "print(confusion_matrix(y_test,y_pred_sgb))"
   ]
  },
  {
   "cell_type": "code",
   "execution_count": 49,
   "metadata": {},
   "outputs": [
    {
     "name": "stdout",
     "output_type": "stream",
     "text": [
      "1.0\n",
      "[[1557    0]\n",
      " [   0  143]]\n"
     ]
    }
   ],
   "source": [
    "# Print out accuracy and cofusion matrix\n",
    "print(accuracy_score(y_train,y_pred_train))\n",
    "print(confusion_matrix(y_train,y_pred_train))"
   ]
  },
  {
   "cell_type": "code",
   "execution_count": 186,
   "metadata": {},
   "outputs": [
    {
     "data": {
      "image/png": "[encoded data removed]",
      "text/plain": [
       "<Figure size 864x576 with 2 Axes>"
      ]
     },
     "metadata": {
      "needs_background": "light"
     },
     "output_type": "display_data"
    }
   ],
   "source": [
    "# Plot confusion matrix\n",
    "rcParams['figure.figsize'] = 12, 8\n",
    "plot_confusion_matrix(sgb_clf, X_train, y_train, cmap = plt.cm.Blues)\n",
    "plt.rc('ytick', labelsize=10, color='#39508F')\n",
    "plt.rc('xtick', labelsize=5)\n",
    "plt.xlabel('Predicted label', color='#39508F', size=15)\n",
    "plt.ylabel('True label', color='#39508F', size=15)\n",
    "plt.title('Training Accuracy = 100%', fontsize=20, fontweight='bold', color='#0A6E70')\n",
    "plt.show()"
   ]
  },
  {
   "cell_type": "code",
   "execution_count": 187,
   "metadata": {},
   "outputs": [
    {
     "data": {
      "image/png": "[encoded data removed]",
      "text/plain": [
       "<Figure size 864x576 with 2 Axes>"
      ]
     },
     "metadata": {
      "needs_background": "light"
     },
     "output_type": "display_data"
    }
   ],
   "source": [
    "# Plot confusion matrix\n",
    "rcParams['figure.figsize'] = 12, 8\n",
    "plot_confusion_matrix(sgb_clf, X_test, y_test, cmap = plt.cm.Blues)\n",
    "plt.rc('ytick', labelsize=10, color='#39508F')\n",
    "plt.rc('xtick', labelsize=5)\n",
    "plt.xlabel('Predicted label', color='#39508F', size=15)\n",
    "plt.ylabel('True label', color='#39508F', size=15)\n",
    "plt.title('Testing Accuracy = 99.5%', fontsize=20, fontweight='bold', color='#0A6E70')\n",
    "plt.show()"
   ]
  },
  {
   "cell_type": "markdown",
   "metadata": {},
   "source": [
    "## Voting Classifier"
   ]
  },
  {
   "cell_type": "code",
   "execution_count": 167,
   "metadata": {},
   "outputs": [],
   "source": [
    "from sklearn.ensemble import VotingClassifier\n",
    "# Instantiate the classifiers\n",
    "# Already instantiated above ^\n",
    "\n",
    "# Define a list 'classifiers' that contains a tuple\n",
    "classifiers = [\n",
    "    ('Logistic Regression', lr_clf),\n",
    "    ('Support Vector Machine', svm_clf),\n",
    "    ('Gradient Boosting', sgb_clf)\n",
    "]"
   ]
  },
  {
   "cell_type": "code",
   "execution_count": 168,
   "metadata": {},
   "outputs": [
    {
     "name": "stdout",
     "output_type": "stream",
     "text": [
      "Logistic Regression : 0.988\n",
      "Support Vector Machine : 0.995\n",
      "Gradient Boosting : 0.995\n"
     ]
    }
   ],
   "source": [
    "# Iterate over the defined list of tuples\n",
    "for clf_name, clf in classifiers:\n",
    "    \n",
    "    # Fit clf to training data\n",
    "    clf.fit(X_train, y_train)\n",
    "    \n",
    "    # Predict labels for test set\n",
    "    y_pred_clfs = clf.predict(X_test)\n",
    "    \n",
    "    # Evaluate accuracy on test\n",
    "    print(\"{:s} : {:.3f}\".format(clf_name, accuracy_score(y_test, y_pred_clfs)))"
   ]
  },
  {
   "cell_type": "code",
   "execution_count": 169,
   "metadata": {},
   "outputs": [
    {
     "name": "stdout",
     "output_type": "stream",
     "text": [
      "CPU times: user 4.29 s, sys: 87 ms, total: 4.38 s\n",
      "Wall time: 4.6 s\n"
     ]
    },
    {
     "data": {
      "text/plain": [
       "VotingClassifier(estimators=[('Logistic Regression', LogisticRegression(C=1)),\n",
       "                             ('Support Vector Machine', SVC(C=1000)),\n",
       "                             ('Gradient Boosting',\n",
       "                              GradientBoostingClassifier(max_depth=5,\n",
       "                                                         max_features=0.3,\n",
       "                                                         n_estimators=212,\n",
       "                                                         subsample=0.4))])"
      ]
     },
     "execution_count": 169,
     "metadata": {},
     "output_type": "execute_result"
    }
   ],
   "source": [
    "%%time \n",
    "# Instantiate a VotingClassifier 'vc'\n",
    "vc = VotingClassifier(estimators = classifiers)\n",
    "\n",
    "# Fit the vc to training set and predict labels\n",
    "vc.fit(X_train, y_train)\n"
   ]
  },
  {
   "cell_type": "code",
   "execution_count": 175,
   "metadata": {},
   "outputs": [],
   "source": [
    "# Print out predicted labels\n",
    "y_pred = vc.predict(X_test)\n",
    "y_pred_vot_pred = vc.predict(X_train)"
   ]
  },
  {
   "cell_type": "code",
   "execution_count": 171,
   "metadata": {},
   "outputs": [
    {
     "name": "stdout",
     "output_type": "stream",
     "text": [
      "Voting Classifier accuracy: 0.9953\n",
      "Confusion Matrix:  \n",
      "[[388   1]\n",
      " [  1  35]]\n"
     ]
    }
   ],
   "source": [
    "# Evaluate the test-set accuracy of vc\n",
    "print(\"Voting Classifier accuracy: {:.4f}\".format(accuracy_score(y_test, y_pred)))\n",
    "\n",
    "# prinf confusio matrix\n",
    "print(\"Confusion Matrix:  \")\n",
    "print(confusion_matrix(y_test, y_pred))"
   ]
  },
  {
   "cell_type": "code",
   "execution_count": 176,
   "metadata": {},
   "outputs": [
    {
     "name": "stdout",
     "output_type": "stream",
     "text": [
      "Voting Classifier accuracy: 1.0000\n",
      "Confusion Matrix:  \n",
      "[[1557    0]\n",
      " [   0  143]]\n"
     ]
    }
   ],
   "source": [
    "# Evaluate the test-set accuracy of vc\n",
    "print(\"Voting Classifier accuracy: {:.4f}\".format(accuracy_score(y_train, y_pred_vot_pred)))\n",
    "\n",
    "# prinf confusio matrix\n",
    "print(\"Confusion Matrix:  \")\n",
    "print(confusion_matrix(y_train, y_pred_vot_pred))"
   ]
  },
  {
   "cell_type": "code",
   "execution_count": 188,
   "metadata": {},
   "outputs": [
    {
     "name": "stdout",
     "output_type": "stream",
     "text": [
      "Accuracy on test data: 0.9953\n",
      "Accuracy on training data: 1.0000\n"
     ]
    }
   ],
   "source": [
    "#Print out scores\n",
    "print('Accuracy on test data: {:.4f}'.format(vc.score(X_test,y_test)))\n",
    "print('Accuracy on training data: {:.4f}'.format(vc.score(X_train,y_train)))"
   ]
  },
  {
   "cell_type": "code",
   "execution_count": 189,
   "metadata": {},
   "outputs": [
    {
     "data": {
      "image/png": "[encoded data removed]",
      "text/plain": [
       "<Figure size 864x576 with 2 Axes>"
      ]
     },
     "metadata": {
      "needs_background": "light"
     },
     "output_type": "display_data"
    }
   ],
   "source": [
    "# Plot confusion matrix\n",
    "rcParams['figure.figsize'] = 12, 8\n",
    "plot_confusion_matrix(vc, X_test, y_test, cmap = plt.cm.Blues)\n",
    "plt.rc('ytick', labelsize=10, color='#39508F')\n",
    "plt.rc('xtick', labelsize=5)\n",
    "plt.xlabel('Predicted label', color='#39508F', size=15)\n",
    "plt.ylabel('True label', color='#39508F', size=15)\n",
    "plt.title('Testing Accuracy = 99.5%', fontsize=20, fontweight='bold', color='#0A6E70')\n",
    "plt.show()"
   ]
  },
  {
   "cell_type": "code",
   "execution_count": 190,
   "metadata": {},
   "outputs": [
    {
     "data": {
      "image/png": "[encoded data removed]",
      "text/plain": [
       "<Figure size 864x576 with 2 Axes>"
      ]
     },
     "metadata": {
      "needs_background": "light"
     },
     "output_type": "display_data"
    }
   ],
   "source": [
    "# Plot confusion matrix\n",
    "rcParams['figure.figsize'] = 12, 8\n",
    "plot_confusion_matrix(vc, X_train, y_train, cmap = plt.cm.Blues)\n",
    "plt.rc('ytick', labelsize=10, color='#39508F')\n",
    "plt.rc('xtick', labelsize=5)\n",
    "plt.xlabel('Predicted label', color='#39508F', size=15)\n",
    "plt.ylabel('True label', color='#39508F', size=15)\n",
    "plt.title('Training Accuracy = 100%', fontsize=20, fontweight='bold', color='#0A6E70')\n",
    "plt.show()"
   ]
  },
  {
   "cell_type": "code",
   "execution_count": null,
   "metadata": {},
   "outputs": [],
   "source": []
  },
  {
   "cell_type": "code",
   "execution_count": null,
   "metadata": {},
   "outputs": [],
   "source": []
  },
  {
   "cell_type": "code",
   "execution_count": null,
   "metadata": {},
   "outputs": [],
   "source": []
  },
  {
   "cell_type": "code",
   "execution_count": null,
   "metadata": {},
   "outputs": [],
   "source": []
  },
  {
   "cell_type": "code",
   "execution_count": null,
   "metadata": {},
   "outputs": [],
   "source": []
  },
  {
   "cell_type": "code",
   "execution_count": null,
   "metadata": {},
   "outputs": [],
   "source": []
  },
  {
   "cell_type": "code",
   "execution_count": null,
   "metadata": {},
   "outputs": [],
   "source": []
  },
  {
   "cell_type": "code",
   "execution_count": null,
   "metadata": {},
   "outputs": [],
   "source": []
  },
  {
   "cell_type": "code",
   "execution_count": null,
   "metadata": {},
   "outputs": [],
   "source": []
  },
  {
   "cell_type": "code",
   "execution_count": null,
   "metadata": {},
   "outputs": [],
   "source": []
  },
  {
   "cell_type": "code",
   "execution_count": null,
   "metadata": {},
   "outputs": [],
   "source": []
  },
  {
   "cell_type": "code",
   "execution_count": null,
   "metadata": {},
   "outputs": [],
   "source": []
  },
  {
   "cell_type": "code",
   "execution_count": null,
   "metadata": {},
   "outputs": [],
   "source": []
  },
  {
   "cell_type": "code",
   "execution_count": null,
   "metadata": {},
   "outputs": [],
   "source": []
  },
  {
   "cell_type": "code",
   "execution_count": null,
   "metadata": {},
   "outputs": [],
   "source": []
  },
  {
   "cell_type": "code",
   "execution_count": null,
   "metadata": {},
   "outputs": [],
   "source": []
  },
  {
   "cell_type": "code",
   "execution_count": null,
   "metadata": {},
   "outputs": [],
   "source": []
  },
  {
   "cell_type": "code",
   "execution_count": null,
   "metadata": {},
   "outputs": [],
   "source": []
  },
  {
   "cell_type": "code",
   "execution_count": null,
   "metadata": {},
   "outputs": [],
   "source": []
  },
  {
   "cell_type": "code",
   "execution_count": null,
   "metadata": {},
   "outputs": [],
   "source": []
  },
  {
   "cell_type": "code",
   "execution_count": null,
   "metadata": {},
   "outputs": [],
   "source": []
  },
  {
   "cell_type": "code",
   "execution_count": null,
   "metadata": {},
   "outputs": [],
   "source": []
  },
  {
   "cell_type": "code",
   "execution_count": null,
   "metadata": {},
   "outputs": [],
   "source": [
    "plotConfusionMatrix(y_test,y_pred_lr)\n",
    "rcParams['figure.figsize'] = 12, 8\n",
    "plt.rc('ytick', labelsize=15, color='#39508F')\n",
    "plt.rc('xtick', labelsize=15, color='#39508F')\n",
    "plt.xlabel('Predicted label', color='#39508F', size=15)\n",
    "plt.ylabel('True label', color='#39508F', size=15)\n",
    "plt.title('Logistic regression confusion matrix', fontsize=20, fontweight='bold', color='#39508F')\n",
    "plt.show()\n",
    "\n"
   ]
  },
  {
   "cell_type": "code",
   "execution_count": null,
   "metadata": {},
   "outputs": [],
   "source": [
    "import pandas as pd\n",
    "import numpy as np\n",
    "import seaborn as sns\n",
    "import matplotlib.pyplot as plt\n",
    "from scipy.sparse import coo_matrix\n",
    "# from sklearn.metrics._classification import *\n",
    "from sklearn.metrics.classification import _check_targets\n",
    "from sklearn.utils import check_consistent_length\n",
    "from sklearn.utils.multiclass import unique_labels\n",
    "sns.set_palette(sns.hls_palette(8, 0.5, 0.4, 0.4))\n",
    "font = {\"size\": 18}\n",
    "plt.rc('font', **font)\n",
    "pd.set_option(\"display.max_column\", 30)\n",
    "def plotConfusionMatrix(y_true, y_pred, classes=None,\n",
    "                        normalize=False,\n",
    "                        title=None,\n",
    "                        cmap=plt.cm.Blues,\n",
    "                        show=False):\n",
    "    \"\"\"\n",
    "    This function prints and plots the confusion matrix.\n",
    "    Normalization can be applied by setting `normalize=True`.\n",
    "    \"\"\"\n",
    "    if not title:\n",
    "        if normalize:\n",
    "            title = 'Normalized confusion matrix'\n",
    "        else:\n",
    "            title = 'Confusion matrix, without normalization'\n",
    "    # Compute confusion matrix\n",
    "    cm, labelDict = custom_confusion_matrix(y_true, y_pred)\n",
    "    if classes is None:\n",
    "        classes = [labelDict[i] for i in range(len(labelDict))]\n",
    "    # Only use the labels that appear in the data\n",
    "    if normalize:\n",
    "        cm = cm.astype('float') / cm.sum(axis=1)[:, np.newaxis]\n",
    "        print(\"Normalized confusion matrix\")\n",
    "    else:\n",
    "        print('Confusion matrix, without normalization')\n",
    "    print(cm)\n",
    "    fig, ax = plt.subplots(figsize=(12, 8))\n",
    "    im = ax.imshow(cm, interpolation='nearest', cmap=cmap)\n",
    "    ax.figure.colorbar(im, ax=ax)\n",
    "    # We want to show all ticks...\n",
    "    ax.set(xticks=np.arange(cm.shape[1]),\n",
    "           yticks=np.arange(cm.shape[0]),\n",
    "           # ... and label them with the respective list entries\n",
    "           xticklabels=classes, yticklabels=classes,\n",
    "           title=title,\n",
    "           ylabel='True label',\n",
    "           xlabel='Predicted label')\n",
    "    # Rotate the tick labels and set their alignment.\n",
    "    plt.setp(ax.get_xticklabels(), rotation=0, ha=\"right\",\n",
    "             rotation_mode=\"anchor\")\n",
    "    # Loop over data dimensions and create text annotations.\n",
    "    fmt = '.2f' if normalize else 'd'\n",
    "    thresh = cm.max() / 2.\n",
    "    for i in range(cm.shape[0]):\n",
    "        for j in range(cm.shape[1]):\n",
    "            ax.text(j, i, format(cm[i, j], fmt),\n",
    "                    ha=\"center\", va=\"center\",\n",
    "                    color=\"white\" if cm[i, j] > thresh else \"black\")\n",
    "    fig.tight_layout()\n",
    "    if show:\n",
    "        plt.show()\n",
    "    return ax\n",
    "\n",
    "\n",
    "def custom_confusion_matrix(y_true, y_pred, labels=None, sample_weight=None,\n",
    "                     normalize=None):\n",
    "    y_type, y_true, y_pred = _check_targets(y_true, y_pred)\n",
    "    if y_type not in (\"binary\", \"multiclass\"):\n",
    "        raise ValueError(\"%s is not supported\" % y_type)\n",
    "    if labels is None:\n",
    "        labels = unique_labels(y_true, y_pred)\n",
    "    else:\n",
    "        labels = np.asarray(labels)\n",
    "        if np.all([l not in y_true for l in labels]):\n",
    "            raise ValueError(\"At least one label specified must be in y_true\")\n",
    "    if sample_weight is None:\n",
    "        sample_weight = np.ones(y_true.shape[0], dtype=np.int64)\n",
    "    else:\n",
    "        sample_weight = np.asarray(sample_weight)\n",
    "    check_consistent_length(y_true, y_pred, sample_weight)\n",
    "    n_labels = labels.size\n",
    "    label_to_ind = {y: x for x, y in enumerate(labels)}\n",
    "    print(label_to_ind)\n",
    "    # convert yt, yp into index\n",
    "    y_pred = np.array([label_to_ind.get(x, n_labels + 1) for x in y_pred])\n",
    "    y_true = np.array([label_to_ind.get(x, n_labels + 1) for x in y_true])\n",
    "    # intersect y_pred, y_true with labels, eliminate items not in labels\n",
    "    ind = np.logical_and(y_pred < n_labels, y_true < n_labels)\n",
    "    y_pred = y_pred[ind]\n",
    "    y_true = y_true[ind]\n",
    "    # also eliminate weights of eliminated items\n",
    "    sample_weight = sample_weight[ind]\n",
    "    # Choose the accumulator dtype to always have high precision\n",
    "    if sample_weight.dtype.kind in {'i', 'u', 'b'}:\n",
    "        dtype = np.int64\n",
    "    else:\n",
    "        dtype = np.float64\n",
    "    cm = coo_matrix((sample_weight, (y_true, y_pred)),\n",
    "                    shape=(n_labels, n_labels), dtype=dtype,\n",
    "                    ).toarray()\n",
    "    with np.errstate(all='ignore'):\n",
    "        if normalize == 'true':\n",
    "            cm = cm / cm.sum(axis=1, keepdims=True)\n",
    "        elif normalize == 'pred':\n",
    "            cm = cm / cm.sum(axis=0, keepdims=True)\n",
    "        elif normalize == 'all':\n",
    "            cm = cm / cm.sum()\n",
    "        cm = np.nan_to_num(cm)\n",
    "    label_dict = {value : key for (key, value) in label_to_ind.items()}\n",
    "    return cm, label_dict"
   ]
  }
 ],
 "metadata": {
  "kernelspec": {
   "display_name": "Python 3",
   "language": "python",
   "name": "python3"
  },
  "language_info": {
   "codemirror_mode": {
    "name": "ipython",
    "version": 3
   },
   "file_extension": ".py",
   "mimetype": "text/x-python",
   "name": "python",
   "nbconvert_exporter": "python",
   "pygments_lexer": "ipython3",
   "version": "3.7.0"
  }
 },
 "nbformat": 4,
 "nbformat_minor": 4
}
